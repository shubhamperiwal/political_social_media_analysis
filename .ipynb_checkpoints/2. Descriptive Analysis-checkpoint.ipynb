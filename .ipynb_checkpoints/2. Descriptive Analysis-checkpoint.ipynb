{
 "cells": [
  {
   "cell_type": "markdown",
   "metadata": {},
   "source": [
    "# Political Social Media Analysis"
   ]
  },
  {
   "cell_type": "markdown",
   "metadata": {},
   "source": [
    "In this project, I will try to compare the tweets of Donald Trump, Barrack Obama, and Hillary Clinton to come up with meaningful insights"
   ]
  },
  {
   "cell_type": "markdown",
   "metadata": {},
   "source": [
    "In this notebook, I will import the cleaned data and come up with as many insights as possible"
   ]
  },
  {
   "cell_type": "markdown",
   "metadata": {},
   "source": [
    "There are 3 CSV files which will be used:\n",
    "1. DonaldTrumpClean\n",
    "2. BarackObamaClean\n",
    "3. HillaryClintonClean\n",
    "\n",
    "All 3 have the same structure\n",
    "date,retweet,text,author"
   ]
  },
  {
   "cell_type": "code",
   "execution_count": null,
   "metadata": {},
   "outputs": [],
   "source": [
    "import pandas as pd\n",
    "import matplotlib.pyplot as plt\n",
    "import seaborn as sns\n",
    "import numpy as np"
   ]
  },
  {
   "cell_type": "markdown",
   "metadata": {},
   "source": [
    "Read the clean data"
   ]
  },
  {
   "cell_type": "code",
   "execution_count": null,
   "metadata": {},
   "outputs": [],
   "source": [
    "trump = pd.read_csv(\"data/DonaldTrumpClean.csv\")\n",
    "obama = pd.read_csv(\"data/BarackObamaClean.csv\")\n",
    "clinton = pd.read_csv(\"data/HillaryClintonClean.csv\")"
   ]
  },
  {
   "cell_type": "code",
   "execution_count": null,
   "metadata": {},
   "outputs": [],
   "source": [
    "print(len(trump), len(obama), len(clinton))"
   ]
  },
  {
   "cell_type": "code",
   "execution_count": null,
   "metadata": {},
   "outputs": [],
   "source": [
    "trump.drop('Unnamed: 0', axis=1, inplace=True)\n",
    "obama.drop('Unnamed: 0', axis=1, inplace=True)\n",
    "clinton.drop('Unnamed: 0', axis=1, inplace=True)"
   ]
  },
  {
   "cell_type": "code",
   "execution_count": null,
   "metadata": {},
   "outputs": [],
   "source": [
    "trump['date'] = pd.to_datetime(trump['date'])\n",
    "obama['date'] = pd.to_datetime(obama['date'])\n",
    "clinton['date'] = pd.to_datetime(clinton['date'])"
   ]
  },
  {
   "cell_type": "markdown",
   "metadata": {},
   "source": [
    "### Insight 1: Analysis of how active each of them are"
   ]
  },
  {
   "cell_type": "markdown",
   "metadata": {},
   "source": [
    "Time frame for the dataset is 01-01-2014 to 13-10-2016"
   ]
  },
  {
   "cell_type": "code",
   "execution_count": null,
   "metadata": {},
   "outputs": [],
   "source": [
    "xpos = [\"Trump\", \"Obama\", \"Clinton\"]\n",
    "ypos = [len(trump), len(obama), len(clinton)]\n",
    "plt.bar(xpos, ypos)\n",
    "\n",
    "title = \"Number of tweets from Jan-14 to Oct-16\"\n",
    "plt.suptitle(title, fontsize=16)\n",
    "plt.xlabel(\"Politician\", fontsize=12)\n",
    "plt.ylabel(\"Tweets\", fontsize=12)"
   ]
  },
  {
   "cell_type": "code",
   "execution_count": null,
   "metadata": {},
   "outputs": [],
   "source": [
    "width = 0.5       # the width of the bars\n",
    "\n",
    "fig, ax = plt.subplots()\n",
    "plt.figure(figsize=(3,4))\n",
    "\n",
    "rects1 = ax.bar(xpos, ypos, width, color='r')\n",
    "title = \"Number of tweets from Jan-14 to Oct-16\"\n",
    "\n",
    "\n",
    "def autolabel(rects):\n",
    "    \"\"\"\n",
    "    Attach a text label above each bar displaying its height\n",
    "    \"\"\"\n",
    "    for rect in rects:\n",
    "        height = rect.get_height()\n",
    "        ax.text(rect.get_x() + rect.get_width()/2., 1.05*height,\n",
    "                '%d' % int(height),\n",
    "                ha='center', va='bottom')\n",
    "        \n",
    "autolabel(rects1)\n",
    "\n",
    "plt.suptitle(title)\n",
    "plt.show()"
   ]
  },
  {
   "cell_type": "markdown",
   "metadata": {},
   "source": [
    "### Time series of number of tweets every quarter"
   ]
  },
  {
   "cell_type": "code",
   "execution_count": null,
   "metadata": {},
   "outputs": [],
   "source": [
    "trump_copy = trump.copy()\n",
    "obama_copy = obama.copy()\n",
    "clinton_copy = clinton.copy()\n",
    "\n",
    "trump_copy['quarters'] = trump_copy.date.dt.quarter + (trump_copy.date.dt.year - 2014)*4\n",
    "obama_copy['quarters'] = obama_copy.date.dt.quarter + (obama_copy.date.dt.year - 2014)*4\n",
    "clinton_copy['quarters'] = clinton_copy.date.dt.quarter + (clinton_copy.date.dt.year - 2014)*4"
   ]
  },
  {
   "cell_type": "code",
   "execution_count": null,
   "metadata": {},
   "outputs": [],
   "source": [
    "trump_copy['quarters'] = trump_copy['quarters'].astype(int)\n",
    "obama_copy['quarters'] = obama_copy['quarters'].astype(int)\n",
    "clinton_copy['quarters'] = clinton_copy['quarters'].astype(int)"
   ]
  },
  {
   "cell_type": "code",
   "execution_count": null,
   "metadata": {},
   "outputs": [],
   "source": [
    "trumpQuartCount = trump_copy.groupby(['quarters'])['text'].count()\n",
    "obamaQuartCount = obama_copy.groupby(['quarters'])['text'].count()\n",
    "clintonQuartCount = clinton_copy.groupby(['quarters'])['text'].count()"
   ]
  },
  {
   "cell_type": "code",
   "execution_count": null,
   "metadata": {},
   "outputs": [],
   "source": [
    "trumpQuartCount.drop(12, inplace=True)\n",
    "clintonQuartCount.drop(12, inplace=True)\n",
    "obamaQuartCount.drop(12, inplace=True)"
   ]
  },
  {
   "cell_type": "code",
   "execution_count": null,
   "metadata": {},
   "outputs": [],
   "source": [
    "#Since clinton has no data for 2014, we will add those quarters to have 0 tweets\n",
    "for i in range(1,5):\n",
    "    clintonQuartCount[i] = 0 \n",
    "clintonQuartCount.sort_index(inplace=True)"
   ]
  },
  {
   "cell_type": "code",
   "execution_count": null,
   "metadata": {},
   "outputs": [],
   "source": [
    "quarters = ['2014-Q1', '2014-Q2', '2014-Q3', '2014-Q4', \n",
    "           '2015-Q1', '2015-Q2', '2015-Q3', '2015-Q4',\n",
    "           '2016-Q1', '2016-Q2', '2016-Q3']"
   ]
  },
  {
   "cell_type": "code",
   "execution_count": null,
   "metadata": {},
   "outputs": [],
   "source": [
    "plt.figure(figsize=(12, 6))  # width:20, height:6\n",
    "plt.title(\"Politicians' tweets per quarter from 2014 to 2016\", fontsize=20)\n",
    "plt.plot(quarters, obamaQuartCount)\n",
    "plt.plot(quarters, trumpQuartCount)\n",
    "plt.plot(quarters, clintonQuartCount)\n",
    "\n",
    "plt.legend(['Obama\\'s Tweets', 'Trump\\'s Tweets', 'Hillary\\'s Tweets'], loc='upper left')\n",
    "plt.show()"
   ]
  },
  {
   "cell_type": "markdown",
   "metadata": {},
   "source": [
    "## Creating wordclouds"
   ]
  },
  {
   "cell_type": "markdown",
   "metadata": {},
   "source": [
    "Now we'll be creating wordclouds to have a rough gauge of the most frequently used words by the different politicians before we go into analysing the sentiments"
   ]
  },
  {
   "cell_type": "code",
   "execution_count": null,
   "metadata": {},
   "outputs": [],
   "source": [
    "from wordcloud import WordCloud, STOPWORDS, ImageColorGenerator\n",
    "from PIL import Image, ImageFilter"
   ]
  },
  {
   "cell_type": "code",
   "execution_count": null,
   "metadata": {},
   "outputs": [],
   "source": [
    "def transform_format(val):\n",
    "    if val == 0:\n",
    "        return 255\n",
    "    else:\n",
    "        return val"
   ]
  },
  {
   "cell_type": "code",
   "execution_count": null,
   "metadata": {},
   "outputs": [],
   "source": [
    "trump_mask = np.array(Image.open(\"images/trump.png\"))\n",
    "# Transform your mask into a new one that will work with the function:\n",
    "transformed_trump_mask = np.ndarray((trump_mask.shape[0],trump_mask.shape[1]), np.int32)\n",
    "\n",
    "for i in range(len(trump_mask)):\n",
    "    transformed_trump_mask[i] = list(map(transform_format, trump_mask[i]))\n",
    "    \n",
    "stopwords = set(STOPWORDS)\n",
    "stopwords.update([\"realDonaldTrump\", \"Donald\", \"Trump\"])\n",
    "trumpTweets = \" \".join(tweet for tweet in trump.text)"
   ]
  },
  {
   "cell_type": "code",
   "execution_count": null,
   "metadata": {},
   "outputs": [],
   "source": [
    "# Create a word cloud image\n",
    "wc = WordCloud(background_color=\"white\", max_words=1000, mask=transformed_trump_mask,\n",
    "               stopwords=stopwords)\n",
    "\n",
    "# Generate a wordcloud\n",
    "wc.generate(trumpTweets)\n",
    "\n",
    "# store to file\n",
    "wc.to_file(\"images/trumpWordcloud.png\")\n",
    "\n",
    "# show\n",
    "plt.figure(figsize=[20,10], edgecolor='black')\n",
    "plt.imshow(wc, interpolation='bilinear')\n",
    "plt.axis(\"off\")\n",
    "plt.show()"
   ]
  },
  {
   "cell_type": "markdown",
   "metadata": {},
   "source": [
    "In this Trump-shaped Wordcloud, we can see that the most common words Trump uses are `Thank`, `will`, `great` etc.\n",
    "\n",
    "Unsurprisingly, he uses `Obama` a lot as well"
   ]
  },
  {
   "cell_type": "code",
   "execution_count": null,
   "metadata": {},
   "outputs": [],
   "source": [
    "stopwords = set(STOPWORDS)\n",
    "stopwords.update([\"President\", \"Obama\", \"President Obama\", \"bo\", \"ofa\"])\n",
    "obamaTweets = \" \".join(tweet for tweet in obama.text)"
   ]
  },
  {
   "cell_type": "code",
   "execution_count": null,
   "metadata": {},
   "outputs": [],
   "source": [
    "# Create a word cloud image\n",
    "wc = WordCloud(background_color=\"white\", max_words=1000, stopwords=stopwords)\n",
    "\n",
    "# Generate a wordcloud\n",
    "wc.generate(obamaTweets)\n",
    "\n",
    "# store to file\n",
    "wc.to_file(\"images/obamaWordcloud.png\")\n",
    "\n",
    "# show\n",
    "plt.figure(figsize=[20,10], edgecolor='black')\n",
    "plt.imshow(wc, interpolation='bilinear')\n",
    "plt.axis(\"off\")\n",
    "plt.show()"
   ]
  },
  {
   "cell_type": "code",
   "execution_count": null,
   "metadata": {},
   "outputs": [],
   "source": [
    "stopwords = set(STOPWORDS)\n",
    "stopwords.update([\"Hillary\", \"twitter\", \"https\", \"hrc\", \"io\"])\n",
    "clintonTweets = \" \".join(tweet for tweet in clinton.text)"
   ]
  },
  {
   "cell_type": "code",
   "execution_count": null,
   "metadata": {},
   "outputs": [],
   "source": [
    "clinton_mask = np.array(Image.open(\"images/clinton.png\"))\n",
    "# Transform your mask into a new one that will work with the function:\n",
    "transformed_clinton_mask = np.ndarray((clinton_mask.shape[0],clinton_mask.shape[1]), np.int32)\n",
    "\n",
    "for i in range(len(clinton_mask)):\n",
    "    transformed_clinton_mask[i] = list(map(transform_format, clinton_mask[i]))"
   ]
  },
  {
   "cell_type": "code",
   "execution_count": null,
   "metadata": {},
   "outputs": [],
   "source": [
    "# Create a word cloud image\n",
    "wc = WordCloud(background_color=\"white\", max_words=1000, stopwords=stopwords, mask=transformed_clinton_mask)\n",
    "\n",
    "# Generate a wordcloud\n",
    "wc.generate(clintonTweets)\n",
    "\n",
    "# store to file\n",
    "wc.to_file(\"images/clintonWordcloud.png\")\n",
    "\n",
    "# show\n",
    "plt.figure(figsize=[20,10], edgecolor='black')\n",
    "plt.imshow(wc, interpolation='bilinear')\n",
    "plt.axis(\"off\")\n",
    "plt.show()"
   ]
  },
  {
   "cell_type": "markdown",
   "metadata": {},
   "source": [
    "In this Hillary-shaped wordcloud, we can see that she refers to `Donald Trump` a lot in her tweets!"
   ]
  },
  {
   "cell_type": "markdown",
   "metadata": {},
   "source": [
    "## Sentiment Analysis"
   ]
  },
  {
   "cell_type": "code",
   "execution_count": null,
   "metadata": {},
   "outputs": [],
   "source": [
    "# !pip install textblob"
   ]
  },
  {
   "cell_type": "code",
   "execution_count": null,
   "metadata": {},
   "outputs": [],
   "source": [
    "from textblob import TextBlob\n",
    "\n",
    "bloblist_desc = list()\n",
    "trump_copy = trump.copy()\n",
    "\n",
    "df_tweet_descr_str=trump['text'].astype(str)\n",
    "for row in df_tweet_descr_str:\n",
    "    blob = TextBlob(row)\n",
    "    bloblist_desc.append((row,blob.sentiment.polarity, blob.sentiment.subjectivity))\n",
    "    print(bloblist_desc)\n",
    "    trump['sentiment'] = bloblist_desc[0][1]\n",
    "    trump['polarity'] = bloblist_desc[0][2]\n",
    "    trump.append(pd.DataFrame(bloblist_desc, columns = ['sentence','sentiment','polarity']))"
   ]
  },
  {
   "cell_type": "code",
   "execution_count": null,
   "metadata": {},
   "outputs": [],
   "source": [
    "def f(df_tweet_polarity_desc):\n",
    "    if df_tweet_polarity_desc['sentiment'] > 0:\n",
    "        val = \"Positive\"\n",
    "    elif df_tweet_polarity_desc['sentiment'] == 0:\n",
    "        val = \"Neutral\"\n",
    "    else:\n",
    "        val = \"Negative\"\n",
    "    return val\n"
   ]
  },
  {
   "cell_type": "code",
   "execution_count": null,
   "metadata": {},
   "outputs": [],
   "source": [
    "df_tweet_polarity_desc['Sentiment_Type'] = df_tweet_polarity_desc.apply(f, axis=1)\n",
    "\n",
    "plt.figure(figsize=(10,10))\n",
    "sns.set_style(\"whitegrid\")\n",
    "ax = sns.countplot(x=\"Sentiment_Type\", data=df_tweet_polarity_desc)"
   ]
  },
  {
   "cell_type": "code",
   "execution_count": null,
   "metadata": {},
   "outputs": [],
   "source": []
  }
 ],
 "metadata": {
  "kernelspec": {
   "display_name": "Python 3",
   "language": "python",
   "name": "python3"
  },
  "language_info": {
   "codemirror_mode": {
    "name": "ipython",
    "version": 3
   },
   "file_extension": ".py",
   "mimetype": "text/x-python",
   "name": "python",
   "nbconvert_exporter": "python",
   "pygments_lexer": "ipython3",
   "version": "3.6.4"
  }
 },
 "nbformat": 4,
 "nbformat_minor": 2
}
