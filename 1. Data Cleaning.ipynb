{
 "cells": [
  {
   "cell_type": "markdown",
   "metadata": {},
   "source": [
    "# Political Social Media Analysis"
   ]
  },
  {
   "cell_type": "markdown",
   "metadata": {},
   "source": [
    "In this project, I will try to compare the tweets of Donald Trump, Barrack Obama, and Hillary Clinton to come up with meaningful insights"
   ]
  },
  {
   "cell_type": "markdown",
   "metadata": {},
   "source": [
    "Data:\n",
    "There are 3 CSV files which will be used:\n",
    "1. DonaldTrump\n",
    "2. BarackObama\n",
    "3. HillaryClinton\n",
    "\n",
    "All 3 have the same structure\n",
    "sl no,date,id,link,retweet,text,author"
   ]
  },
  {
   "cell_type": "markdown",
   "metadata": {},
   "source": [
    "Import libraries"
   ]
  },
  {
   "cell_type": "code",
   "execution_count": 1,
   "metadata": {},
   "outputs": [],
   "source": [
    "import pandas as pd\n",
    "import re"
   ]
  },
  {
   "cell_type": "markdown",
   "metadata": {},
   "source": [
    "Read the data"
   ]
  },
  {
   "cell_type": "code",
   "execution_count": 2,
   "metadata": {},
   "outputs": [],
   "source": [
    "trump = pd.read_csv(\"data/DonaldTrump.csv\")\n",
    "obama = pd.read_csv(\"data/BarackObama.csv\")\n",
    "clinton = pd.read_csv(\"data/HillaryClinton.csv\")"
   ]
  },
  {
   "cell_type": "markdown",
   "metadata": {},
   "source": [
    "### Check out the data"
   ]
  },
  {
   "cell_type": "code",
   "execution_count": 3,
   "metadata": {},
   "outputs": [
    {
     "name": "stdout",
     "output_type": "stream",
     "text": [
      "Number of tweets by Trump:  8439\n",
      "Number of tweets by Obama:  6896\n",
      "Number of tweets by Hillary:  3256\n"
     ]
    }
   ],
   "source": [
    "print(\"Number of tweets by Trump: \", trump.shape[0])\n",
    "print(\"Number of tweets by Obama: \", obama.shape[0])\n",
    "print(\"Number of tweets by Hillary: \", clinton.shape[0])"
   ]
  },
  {
   "cell_type": "code",
   "execution_count": 4,
   "metadata": {},
   "outputs": [
    {
     "data": {
      "text/html": [
       "<div>\n",
       "<style scoped>\n",
       "    .dataframe tbody tr th:only-of-type {\n",
       "        vertical-align: middle;\n",
       "    }\n",
       "\n",
       "    .dataframe tbody tr th {\n",
       "        vertical-align: top;\n",
       "    }\n",
       "\n",
       "    .dataframe thead th {\n",
       "        text-align: right;\n",
       "    }\n",
       "</style>\n",
       "<table border=\"1\" class=\"dataframe\">\n",
       "  <thead>\n",
       "    <tr style=\"text-align: right;\">\n",
       "      <th></th>\n",
       "      <th>Unnamed: 0</th>\n",
       "      <th>date</th>\n",
       "      <th>id</th>\n",
       "      <th>link</th>\n",
       "      <th>retweet</th>\n",
       "      <th>text</th>\n",
       "      <th>author</th>\n",
       "    </tr>\n",
       "  </thead>\n",
       "  <tbody>\n",
       "    <tr>\n",
       "      <th>0</th>\n",
       "      <td>0</td>\n",
       "      <td>Oct-07</td>\n",
       "      <td>7.846090e+17</td>\n",
       "      <td>/realDonaldTrump/status/784609194234306560</td>\n",
       "      <td>False</td>\n",
       "      <td>Here is my statement.pic.twitter.com/WAZiGoQqMQ</td>\n",
       "      <td>DonaldTrump</td>\n",
       "    </tr>\n",
       "    <tr>\n",
       "      <th>1</th>\n",
       "      <td>1</td>\n",
       "      <td>Oct-10</td>\n",
       "      <td>7.856090e+17</td>\n",
       "      <td>/realDonaldTrump/status/785608815962099712</td>\n",
       "      <td>False</td>\n",
       "      <td>Is this really America? Terrible!pic.twitter.c...</td>\n",
       "      <td>DonaldTrump</td>\n",
       "    </tr>\n",
       "    <tr>\n",
       "      <th>2</th>\n",
       "      <td>2</td>\n",
       "      <td>Oct-08</td>\n",
       "      <td>7.848410e+17</td>\n",
       "      <td>/realDonaldTrump/status/784840992734064641</td>\n",
       "      <td>False</td>\n",
       "      <td>The media and establishment want me out of the...</td>\n",
       "      <td>DonaldTrump</td>\n",
       "    </tr>\n",
       "    <tr>\n",
       "      <th>3</th>\n",
       "      <td>3</td>\n",
       "      <td>Oct-11</td>\n",
       "      <td>7.859790e+17</td>\n",
       "      <td>/realDonaldTrump/status/785979396620324865</td>\n",
       "      <td>False</td>\n",
       "      <td>Wow, @CNN Town Hall questions were given to Cr...</td>\n",
       "      <td>DonaldTrump</td>\n",
       "    </tr>\n",
       "    <tr>\n",
       "      <th>4</th>\n",
       "      <td>4</td>\n",
       "      <td>Oct-10</td>\n",
       "      <td>7.855610e+17</td>\n",
       "      <td>/realDonaldTrump/status/785561269571026946</td>\n",
       "      <td>False</td>\n",
       "      <td>Debate polls look great - thank you!\\r\\n#MAGA ...</td>\n",
       "      <td>DonaldTrump</td>\n",
       "    </tr>\n",
       "  </tbody>\n",
       "</table>\n",
       "</div>"
      ],
      "text/plain": [
       "   Unnamed: 0    date            id  \\\n",
       "0           0  Oct-07  7.846090e+17   \n",
       "1           1  Oct-10  7.856090e+17   \n",
       "2           2  Oct-08  7.848410e+17   \n",
       "3           3  Oct-11  7.859790e+17   \n",
       "4           4  Oct-10  7.855610e+17   \n",
       "\n",
       "                                         link  retweet  \\\n",
       "0  /realDonaldTrump/status/784609194234306560    False   \n",
       "1  /realDonaldTrump/status/785608815962099712    False   \n",
       "2  /realDonaldTrump/status/784840992734064641    False   \n",
       "3  /realDonaldTrump/status/785979396620324865    False   \n",
       "4  /realDonaldTrump/status/785561269571026946    False   \n",
       "\n",
       "                                                text       author  \n",
       "0    Here is my statement.pic.twitter.com/WAZiGoQqMQ  DonaldTrump  \n",
       "1  Is this really America? Terrible!pic.twitter.c...  DonaldTrump  \n",
       "2  The media and establishment want me out of the...  DonaldTrump  \n",
       "3  Wow, @CNN Town Hall questions were given to Cr...  DonaldTrump  \n",
       "4  Debate polls look great - thank you!\\r\\n#MAGA ...  DonaldTrump  "
      ]
     },
     "execution_count": 4,
     "metadata": {},
     "output_type": "execute_result"
    }
   ],
   "source": [
    "trump.head()"
   ]
  },
  {
   "cell_type": "code",
   "execution_count": 5,
   "metadata": {},
   "outputs": [
    {
     "data": {
      "text/html": [
       "<div>\n",
       "<style scoped>\n",
       "    .dataframe tbody tr th:only-of-type {\n",
       "        vertical-align: middle;\n",
       "    }\n",
       "\n",
       "    .dataframe tbody tr th {\n",
       "        vertical-align: top;\n",
       "    }\n",
       "\n",
       "    .dataframe thead th {\n",
       "        text-align: right;\n",
       "    }\n",
       "</style>\n",
       "<table border=\"1\" class=\"dataframe\">\n",
       "  <thead>\n",
       "    <tr style=\"text-align: right;\">\n",
       "      <th></th>\n",
       "      <th>Unnamed: 0</th>\n",
       "      <th>date</th>\n",
       "      <th>id</th>\n",
       "      <th>link</th>\n",
       "      <th>retweet</th>\n",
       "      <th>text</th>\n",
       "      <th>author</th>\n",
       "    </tr>\n",
       "  </thead>\n",
       "  <tbody>\n",
       "    <tr>\n",
       "      <th>0</th>\n",
       "      <td>0</td>\n",
       "      <td>Oct-13</td>\n",
       "      <td>7.869830e+17</td>\n",
       "      <td>/BarackObama/status/786982739517943808</td>\n",
       "      <td>False</td>\n",
       "      <td>Denying climate change is dangerous. Join @OFA...</td>\n",
       "      <td>BarackObama</td>\n",
       "    </tr>\n",
       "    <tr>\n",
       "      <th>1</th>\n",
       "      <td>1</td>\n",
       "      <td>Oct-13</td>\n",
       "      <td>7.870100e+17</td>\n",
       "      <td>/BarackObama/status/787010142378332160</td>\n",
       "      <td>False</td>\n",
       "      <td>The American Bar Association gave Judge Garlan...</td>\n",
       "      <td>BarackObama</td>\n",
       "    </tr>\n",
       "    <tr>\n",
       "      <th>2</th>\n",
       "      <td>2</td>\n",
       "      <td>Oct-13</td>\n",
       "      <td>7.870400e+17</td>\n",
       "      <td>/BarackObama/status/787039774330748928</td>\n",
       "      <td>False</td>\n",
       "      <td>We need a fully functional Supreme Court. Edit...</td>\n",
       "      <td>BarackObama</td>\n",
       "    </tr>\n",
       "    <tr>\n",
       "      <th>3</th>\n",
       "      <td>3</td>\n",
       "      <td>Oct-13</td>\n",
       "      <td>7.869640e+17</td>\n",
       "      <td>/BarackObama/status/786964419905523712</td>\n",
       "      <td>False</td>\n",
       "      <td>Cynics, take note: When we #ActOnClimate, we b...</td>\n",
       "      <td>BarackObama</td>\n",
       "    </tr>\n",
       "    <tr>\n",
       "      <th>4</th>\n",
       "      <td>4</td>\n",
       "      <td>Oct-13</td>\n",
       "      <td>7.866810e+17</td>\n",
       "      <td>/BarackObama/status/786680553617629185</td>\n",
       "      <td>False</td>\n",
       "      <td>\"That’s how we will overcome the challenges we...</td>\n",
       "      <td>BarackObama</td>\n",
       "    </tr>\n",
       "  </tbody>\n",
       "</table>\n",
       "</div>"
      ],
      "text/plain": [
       "   Unnamed: 0    date            id                                    link  \\\n",
       "0           0  Oct-13  7.869830e+17  /BarackObama/status/786982739517943808   \n",
       "1           1  Oct-13  7.870100e+17  /BarackObama/status/787010142378332160   \n",
       "2           2  Oct-13  7.870400e+17  /BarackObama/status/787039774330748928   \n",
       "3           3  Oct-13  7.869640e+17  /BarackObama/status/786964419905523712   \n",
       "4           4  Oct-13  7.866810e+17  /BarackObama/status/786680553617629185   \n",
       "\n",
       "   retweet                                               text       author  \n",
       "0    False  Denying climate change is dangerous. Join @OFA...  BarackObama  \n",
       "1    False  The American Bar Association gave Judge Garlan...  BarackObama  \n",
       "2    False  We need a fully functional Supreme Court. Edit...  BarackObama  \n",
       "3    False  Cynics, take note: When we #ActOnClimate, we b...  BarackObama  \n",
       "4    False  \"That’s how we will overcome the challenges we...  BarackObama  "
      ]
     },
     "execution_count": 5,
     "metadata": {},
     "output_type": "execute_result"
    }
   ],
   "source": [
    "obama.head()"
   ]
  },
  {
   "cell_type": "code",
   "execution_count": 6,
   "metadata": {},
   "outputs": [
    {
     "data": {
      "text/html": [
       "<div>\n",
       "<style scoped>\n",
       "    .dataframe tbody tr th:only-of-type {\n",
       "        vertical-align: middle;\n",
       "    }\n",
       "\n",
       "    .dataframe tbody tr th {\n",
       "        vertical-align: top;\n",
       "    }\n",
       "\n",
       "    .dataframe thead th {\n",
       "        text-align: right;\n",
       "    }\n",
       "</style>\n",
       "<table border=\"1\" class=\"dataframe\">\n",
       "  <thead>\n",
       "    <tr style=\"text-align: right;\">\n",
       "      <th></th>\n",
       "      <th>Unnamed: 0</th>\n",
       "      <th>date</th>\n",
       "      <th>id</th>\n",
       "      <th>link</th>\n",
       "      <th>retweet</th>\n",
       "      <th>text</th>\n",
       "      <th>author</th>\n",
       "    </tr>\n",
       "  </thead>\n",
       "  <tbody>\n",
       "    <tr>\n",
       "      <th>0</th>\n",
       "      <td>0</td>\n",
       "      <td>Oct-09</td>\n",
       "      <td>7.852720e+17</td>\n",
       "      <td>/HillaryClinton/status/785272428905791489</td>\n",
       "      <td>False</td>\n",
       "      <td>Remember. #Debatepic.twitter.com/rlMbTt5WwY</td>\n",
       "      <td>HillaryClinton</td>\n",
       "    </tr>\n",
       "    <tr>\n",
       "      <th>1</th>\n",
       "      <td>1</td>\n",
       "      <td>Oct-09</td>\n",
       "      <td>7.853250e+17</td>\n",
       "      <td>/HillaryClinton/status/785325012152713216</td>\n",
       "      <td>False</td>\n",
       "      <td>She won. http://hrc.io/2dQkjip  #Debatepic.twi...</td>\n",
       "      <td>HillaryClinton</td>\n",
       "    </tr>\n",
       "    <tr>\n",
       "      <th>2</th>\n",
       "      <td>2</td>\n",
       "      <td>Oct-09</td>\n",
       "      <td>7.852830e+17</td>\n",
       "      <td>/HillaryClinton/status/785282982261190656</td>\n",
       "      <td>False</td>\n",
       "      <td>Let's go. #Debatepic.twitter.com/HD3ZVJ9xl8</td>\n",
       "      <td>HillaryClinton</td>\n",
       "    </tr>\n",
       "    <tr>\n",
       "      <th>3</th>\n",
       "      <td>3</td>\n",
       "      <td>Oct-09</td>\n",
       "      <td>7.869640e+17</td>\n",
       "      <td>/HillaryClinton/status/786963642080227328</td>\n",
       "      <td>False</td>\n",
       "      <td>\"Everyone knows how bright she is and how resi...</td>\n",
       "      <td>HillaryClinton</td>\n",
       "    </tr>\n",
       "    <tr>\n",
       "      <th>4</th>\n",
       "      <td>4</td>\n",
       "      <td>Oct-09</td>\n",
       "      <td>7.869580e+17</td>\n",
       "      <td>/HillaryClinton/status/786958117531742208</td>\n",
       "      <td>False</td>\n",
       "      <td>\"All the progress we've made these last 8 year...</td>\n",
       "      <td>HillaryClinton</td>\n",
       "    </tr>\n",
       "  </tbody>\n",
       "</table>\n",
       "</div>"
      ],
      "text/plain": [
       "   Unnamed: 0    date            id  \\\n",
       "0           0  Oct-09  7.852720e+17   \n",
       "1           1  Oct-09  7.853250e+17   \n",
       "2           2  Oct-09  7.852830e+17   \n",
       "3           3  Oct-09  7.869640e+17   \n",
       "4           4  Oct-09  7.869580e+17   \n",
       "\n",
       "                                        link  retweet  \\\n",
       "0  /HillaryClinton/status/785272428905791489    False   \n",
       "1  /HillaryClinton/status/785325012152713216    False   \n",
       "2  /HillaryClinton/status/785282982261190656    False   \n",
       "3  /HillaryClinton/status/786963642080227328    False   \n",
       "4  /HillaryClinton/status/786958117531742208    False   \n",
       "\n",
       "                                                text          author  \n",
       "0        Remember. #Debatepic.twitter.com/rlMbTt5WwY  HillaryClinton  \n",
       "1  She won. http://hrc.io/2dQkjip  #Debatepic.twi...  HillaryClinton  \n",
       "2        Let's go. #Debatepic.twitter.com/HD3ZVJ9xl8  HillaryClinton  \n",
       "3  \"Everyone knows how bright she is and how resi...  HillaryClinton  \n",
       "4  \"All the progress we've made these last 8 year...  HillaryClinton  "
      ]
     },
     "execution_count": 6,
     "metadata": {},
     "output_type": "execute_result"
    }
   ],
   "source": [
    "clinton.head()"
   ]
  },
  {
   "cell_type": "markdown",
   "metadata": {},
   "source": [
    "## Data Cleaning"
   ]
  },
  {
   "cell_type": "markdown",
   "metadata": {},
   "source": [
    "A couple of issues have been identified by eye-balling.\n",
    "1. There is an unnamed column which is unnecessary and must be dropped\n",
    "2. ID, and link are not required as well\n",
    "3. Date format is not standard\n",
    "4. Since this is a tweet, it contains many non-alphanumeric characters as well"
   ]
  },
  {
   "cell_type": "code",
   "execution_count": 7,
   "metadata": {},
   "outputs": [],
   "source": [
    "#Dropping the unnecessary columns\n",
    "drop_cols = [\"Unnamed: 0\", \"id\", \"link\"]\n",
    "trump.drop(drop_cols, axis=1, inplace=True)\n",
    "obama.drop(drop_cols, axis=1, inplace=True)\n",
    "clinton.drop(drop_cols, axis=1, inplace=True)"
   ]
  },
  {
   "cell_type": "markdown",
   "metadata": {},
   "source": [
    "For our analysis, we do not need non-alphanumeric characters like \"%^&*() etc\"  \n",
    "We can also remove all references to images like \"pic.twitter.com.\""
   ]
  },
  {
   "cell_type": "code",
   "execution_count": 8,
   "metadata": {},
   "outputs": [],
   "source": [
    "def replaceUnnecessaryText(text):\n",
    "    text = text.split('pic.twitter')[0]   #We can also remove the references to an image\n",
    "    text_list = text.split()\n",
    "    text=\"\"\n",
    "    for word in text_list:\n",
    "        word = re.sub(r'@\\S+', '', word)     #Remove all words beginning with @ to remove references to people\n",
    "        text+=\" \"+word\n",
    "    return re.sub('[^a-zA-Z0-9#@.,/?! ]', '', text)\n",
    "\n",
    "\n",
    "trump['text'] = trump['text'].apply(replaceUnnecessaryText)\n",
    "obama['text'] = obama['text'].apply(replaceUnnecessaryText)\n",
    "clinton['text'] = clinton['text'].apply(replaceUnnecessaryText)"
   ]
  },
  {
   "cell_type": "markdown",
   "metadata": {},
   "source": [
    "Now we will work on standardising the date format\n",
    "\n",
    "Some dates have years while some don't.\n",
    "The ones who don't are of the year 2016. Hence, we will first attach 2017 to the date"
   ]
  },
  {
   "cell_type": "code",
   "execution_count": 9,
   "metadata": {},
   "outputs": [],
   "source": [
    "def changeDateFormat(date):\n",
    "    new_date = date\n",
    "    if(len(date)<7):                        #Date doesn't have year attached yet\n",
    "        if('-' in date):\n",
    "            date_arr = date.split('-')         #Date can be separated by '-' or ' '\n",
    "        else:            \n",
    "            date_arr = date.split()            #Add year 2016 to the dates with no year.\n",
    "        new_date = date_arr[1]+\" \"+date_arr[0]+\" 2016\"\n",
    "    return new_date"
   ]
  },
  {
   "cell_type": "code",
   "execution_count": 10,
   "metadata": {},
   "outputs": [],
   "source": [
    "trump.date = trump.date.apply(changeDateFormat)\n",
    "obama.date = obama.date.apply(changeDateFormat)\n",
    "clinton.date = clinton.date.apply(changeDateFormat)"
   ]
  },
  {
   "cell_type": "markdown",
   "metadata": {},
   "source": [
    "Convert the string to a datetime format"
   ]
  },
  {
   "cell_type": "code",
   "execution_count": 11,
   "metadata": {},
   "outputs": [],
   "source": [
    "trump['date'] = pd.to_datetime(trump['date'])\n",
    "obama['date'] = pd.to_datetime(obama['date'])\n",
    "clinton['date'] = pd.to_datetime(clinton['date'])"
   ]
  },
  {
   "cell_type": "markdown",
   "metadata": {},
   "source": [
    "All Trump and Clinton tweets are from 01-01-2014 while Obama tweets start way earlier in 20017.\n",
    "\n",
    "Remove all pre-2014 Obama tweets"
   ]
  },
  {
   "cell_type": "code",
   "execution_count": 12,
   "metadata": {},
   "outputs": [],
   "source": [
    "obama = obama[obama['date'].dt.year > 2013]"
   ]
  },
  {
   "cell_type": "code",
   "execution_count": 13,
   "metadata": {},
   "outputs": [
    {
     "data": {
      "text/html": [
       "<div>\n",
       "<style scoped>\n",
       "    .dataframe tbody tr th:only-of-type {\n",
       "        vertical-align: middle;\n",
       "    }\n",
       "\n",
       "    .dataframe tbody tr th {\n",
       "        vertical-align: top;\n",
       "    }\n",
       "\n",
       "    .dataframe thead th {\n",
       "        text-align: right;\n",
       "    }\n",
       "</style>\n",
       "<table border=\"1\" class=\"dataframe\">\n",
       "  <thead>\n",
       "    <tr style=\"text-align: right;\">\n",
       "      <th></th>\n",
       "      <th>date</th>\n",
       "      <th>retweet</th>\n",
       "      <th>text</th>\n",
       "      <th>author</th>\n",
       "    </tr>\n",
       "  </thead>\n",
       "  <tbody>\n",
       "    <tr>\n",
       "      <th>2120</th>\n",
       "      <td>2014-01-02</td>\n",
       "      <td>False</td>\n",
       "      <td>Luis can tell people hes going to the doctor ...</td>\n",
       "      <td>BarackObama</td>\n",
       "    </tr>\n",
       "    <tr>\n",
       "      <th>2121</th>\n",
       "      <td>2014-01-01</td>\n",
       "      <td>False</td>\n",
       "      <td>Rosetta from Missouri is covered. #ThisIsWhy ...</td>\n",
       "      <td>BarackObama</td>\n",
       "    </tr>\n",
       "    <tr>\n",
       "      <th>2122</th>\n",
       "      <td>2014-01-01</td>\n",
       "      <td>False</td>\n",
       "      <td>#ThisIsWhy Virginia can go to the doctor agai...</td>\n",
       "      <td>BarackObama</td>\n",
       "    </tr>\n",
       "    <tr>\n",
       "      <th>2123</th>\n",
       "      <td>2014-01-01</td>\n",
       "      <td>False</td>\n",
       "      <td>See stories of people who just got covered in...</td>\n",
       "      <td>BarackObama</td>\n",
       "    </tr>\n",
       "    <tr>\n",
       "      <th>2124</th>\n",
       "      <td>2014-01-01</td>\n",
       "      <td>False</td>\n",
       "      <td>This is why the Affordable Care Act matters. ...</td>\n",
       "      <td>BarackObama</td>\n",
       "    </tr>\n",
       "  </tbody>\n",
       "</table>\n",
       "</div>"
      ],
      "text/plain": [
       "           date  retweet                                               text  \\\n",
       "2120 2014-01-02    False   Luis can tell people hes going to the doctor ...   \n",
       "2121 2014-01-01    False   Rosetta from Missouri is covered. #ThisIsWhy ...   \n",
       "2122 2014-01-01    False   #ThisIsWhy Virginia can go to the doctor agai...   \n",
       "2123 2014-01-01    False   See stories of people who just got covered in...   \n",
       "2124 2014-01-01    False   This is why the Affordable Care Act matters. ...   \n",
       "\n",
       "           author  \n",
       "2120  BarackObama  \n",
       "2121  BarackObama  \n",
       "2122  BarackObama  \n",
       "2123  BarackObama  \n",
       "2124  BarackObama  "
      ]
     },
     "execution_count": 13,
     "metadata": {},
     "output_type": "execute_result"
    }
   ],
   "source": [
    "#By printing the tail, we can confirm that all pre-2014 tweets have been dropped\n",
    "obama.tail()"
   ]
  },
  {
   "cell_type": "markdown",
   "metadata": {},
   "source": [
    "Now let's compare the length of all 3 again"
   ]
  },
  {
   "cell_type": "code",
   "execution_count": 14,
   "metadata": {},
   "outputs": [
    {
     "name": "stdout",
     "output_type": "stream",
     "text": [
      "Number of tweets by Trump:  8439\n",
      "Number of tweets by Obama:  2125\n",
      "Number of tweets by Hillary:  3256\n"
     ]
    }
   ],
   "source": [
    "print(\"Number of tweets by Trump: \", trump.shape[0])\n",
    "print(\"Number of tweets by Obama: \", obama.shape[0])\n",
    "print(\"Number of tweets by Hillary: \", clinton.shape[0])"
   ]
  },
  {
   "cell_type": "code",
   "execution_count": 15,
   "metadata": {},
   "outputs": [
    {
     "data": {
      "text/html": [
       "<div>\n",
       "<style scoped>\n",
       "    .dataframe tbody tr th:only-of-type {\n",
       "        vertical-align: middle;\n",
       "    }\n",
       "\n",
       "    .dataframe tbody tr th {\n",
       "        vertical-align: top;\n",
       "    }\n",
       "\n",
       "    .dataframe thead th {\n",
       "        text-align: right;\n",
       "    }\n",
       "</style>\n",
       "<table border=\"1\" class=\"dataframe\">\n",
       "  <thead>\n",
       "    <tr style=\"text-align: right;\">\n",
       "      <th></th>\n",
       "      <th>date</th>\n",
       "      <th>retweet</th>\n",
       "      <th>text</th>\n",
       "      <th>author</th>\n",
       "    </tr>\n",
       "  </thead>\n",
       "  <tbody>\n",
       "    <tr>\n",
       "      <th>0</th>\n",
       "      <td>2016-10-07</td>\n",
       "      <td>False</td>\n",
       "      <td>Here is my statement.</td>\n",
       "      <td>DonaldTrump</td>\n",
       "    </tr>\n",
       "    <tr>\n",
       "      <th>1</th>\n",
       "      <td>2016-10-10</td>\n",
       "      <td>False</td>\n",
       "      <td>Is this really America? Terrible!</td>\n",
       "      <td>DonaldTrump</td>\n",
       "    </tr>\n",
       "    <tr>\n",
       "      <th>2</th>\n",
       "      <td>2016-10-08</td>\n",
       "      <td>False</td>\n",
       "      <td>The media and establishment want me out of th...</td>\n",
       "      <td>DonaldTrump</td>\n",
       "    </tr>\n",
       "    <tr>\n",
       "      <th>3</th>\n",
       "      <td>2016-10-11</td>\n",
       "      <td>False</td>\n",
       "      <td>Wow,  Town Hall questions were given to Crook...</td>\n",
       "      <td>DonaldTrump</td>\n",
       "    </tr>\n",
       "    <tr>\n",
       "      <th>4</th>\n",
       "      <td>2016-10-10</td>\n",
       "      <td>False</td>\n",
       "      <td>Debate polls look great  thank you! #MAGA #Am...</td>\n",
       "      <td>DonaldTrump</td>\n",
       "    </tr>\n",
       "  </tbody>\n",
       "</table>\n",
       "</div>"
      ],
      "text/plain": [
       "        date  retweet                                               text  \\\n",
       "0 2016-10-07    False                              Here is my statement.   \n",
       "1 2016-10-10    False                  Is this really America? Terrible!   \n",
       "2 2016-10-08    False   The media and establishment want me out of th...   \n",
       "3 2016-10-11    False   Wow,  Town Hall questions were given to Crook...   \n",
       "4 2016-10-10    False   Debate polls look great  thank you! #MAGA #Am...   \n",
       "\n",
       "        author  \n",
       "0  DonaldTrump  \n",
       "1  DonaldTrump  \n",
       "2  DonaldTrump  \n",
       "3  DonaldTrump  \n",
       "4  DonaldTrump  "
      ]
     },
     "execution_count": 15,
     "metadata": {},
     "output_type": "execute_result"
    }
   ],
   "source": [
    "trump.head()"
   ]
  },
  {
   "cell_type": "markdown",
   "metadata": {},
   "source": [
    "## Writing to CSV files"
   ]
  },
  {
   "cell_type": "markdown",
   "metadata": {},
   "source": [
    "Use index=False so that you don't save the first unnamed column in the CSV file"
   ]
  },
  {
   "cell_type": "code",
   "execution_count": 16,
   "metadata": {},
   "outputs": [],
   "source": [
    "trump.to_csv(\"data/DonaldTrumpClean.csv\", index=False)\n",
    "obama.to_csv(\"data/BarackObamaClean.csv\", index=False)\n",
    "clinton.to_csv(\"data/HillaryClintonClean.csv\", index=False)"
   ]
  },
  {
   "cell_type": "markdown",
   "metadata": {},
   "source": [
    "## References"
   ]
  },
  {
   "cell_type": "markdown",
   "metadata": {},
   "source": [
    "Data collected from: https://www.kaggle.com/nandys/social-media-analysis-kim-kardashian/data"
   ]
  }
 ],
 "metadata": {
  "kernelspec": {
   "display_name": "Python 3",
   "language": "python",
   "name": "python3"
  },
  "language_info": {
   "codemirror_mode": {
    "name": "ipython",
    "version": 3
   },
   "file_extension": ".py",
   "mimetype": "text/x-python",
   "name": "python",
   "nbconvert_exporter": "python",
   "pygments_lexer": "ipython3",
   "version": "3.6.4"
  }
 },
 "nbformat": 4,
 "nbformat_minor": 2
}
